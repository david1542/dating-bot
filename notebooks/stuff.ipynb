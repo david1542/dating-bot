{
 "cells": [
  {
   "cell_type": "code",
   "execution_count": 2,
   "metadata": {},
   "outputs": [],
   "source": [
    "%load_ext autoreload\n",
    "%autoreload 2\n",
    "\n",
    "import sys\n",
    "sys.path.append('..')"
   ]
  },
  {
   "cell_type": "code",
   "execution_count": 17,
   "metadata": {},
   "outputs": [],
   "source": [
    "import os\n",
    "from bs4 import BeautifulSoup\n",
    "from src.utils.data import create_dataset, split_metadata\n",
    "from src.utils.data import xml_to_dataframe\n",
    "from train import create_model\n",
    "\n",
    "dataset_path = '../data/processed/dataset'\n",
    "annotations_path = os.path.join(dataset_path, 'annotations.xml')\n",
    "images_path = os.path.join(dataset_path, 'images')\n",
    "\n",
    "with open(annotations_path, 'rb') as f:\n",
    "    annotations = BeautifulSoup(f.read(), 'xml')\n",
    "\n",
    "df = xml_to_dataframe(annotations)\n",
    "df['file_path'] = images_path + '/' + df['file_name']\n",
    "\n",
    "\n",
    "# Split the data to train and test\n",
    "train_images, valid_images, test_images = split_metadata(df, train_frac=0.7, valid_frac=0.15)\n",
    "\n",
    "# Create datasets\n",
    "ds_train = create_dataset(train_images)\n",
    "ds_valid = create_dataset(valid_images)\n",
    "ds_test = create_dataset(test_images)\n",
    "\n",
    "# Create model\n",
    "model = create_model()"
   ]
  },
  {
   "cell_type": "code",
   "execution_count": 18,
   "metadata": {},
   "outputs": [],
   "source": [
    "iterator = iter(ds_train)"
   ]
  },
  {
   "cell_type": "code",
   "execution_count": 21,
   "metadata": {},
   "outputs": [
    {
     "ename": "InvalidArgumentError",
     "evalue": "jpeg::Uncompress failed. Invalid JPEG data or crop window.\n\t [[{{node decode_image/DecodeImage}}]] [Op:IteratorGetNext]",
     "output_type": "error",
     "traceback": [
      "\u001b[0;31m---------------------------------------------------------------------------\u001b[0m",
      "\u001b[0;31mInvalidArgumentError\u001b[0m                      Traceback (most recent call last)",
      "\u001b[1;32m/Users/dudulasry/workspace/Personal/dating-bot/notebooks/stuff.ipynb Cell 4'\u001b[0m in \u001b[0;36m<cell line: 1>\u001b[0;34m()\u001b[0m\n\u001b[0;32m----> <a href='vscode-notebook-cell:/Users/dudulasry/workspace/Personal/dating-bot/notebooks/stuff.ipynb#ch0000003?line=0'>1</a>\u001b[0m \u001b[39mnext\u001b[39;49m(iterator)\n",
      "File \u001b[0;32m~/.pyenv/versions/miniforge3-4.10.3-10/envs/dating_bot_conda/lib/python3.9/site-packages/tensorflow/python/data/ops/iterator_ops.py:766\u001b[0m, in \u001b[0;36mOwnedIterator.__next__\u001b[0;34m(self)\u001b[0m\n\u001b[1;32m    <a href='file:///Users/dudulasry/.pyenv/versions/miniforge3-4.10.3-10/envs/dating_bot_conda/lib/python3.9/site-packages/tensorflow/python/data/ops/iterator_ops.py?line=763'>764</a>\u001b[0m \u001b[39mdef\u001b[39;00m \u001b[39m__next__\u001b[39m(\u001b[39mself\u001b[39m):\n\u001b[1;32m    <a href='file:///Users/dudulasry/.pyenv/versions/miniforge3-4.10.3-10/envs/dating_bot_conda/lib/python3.9/site-packages/tensorflow/python/data/ops/iterator_ops.py?line=764'>765</a>\u001b[0m   \u001b[39mtry\u001b[39;00m:\n\u001b[0;32m--> <a href='file:///Users/dudulasry/.pyenv/versions/miniforge3-4.10.3-10/envs/dating_bot_conda/lib/python3.9/site-packages/tensorflow/python/data/ops/iterator_ops.py?line=765'>766</a>\u001b[0m     \u001b[39mreturn\u001b[39;00m \u001b[39mself\u001b[39;49m\u001b[39m.\u001b[39;49m_next_internal()\n\u001b[1;32m    <a href='file:///Users/dudulasry/.pyenv/versions/miniforge3-4.10.3-10/envs/dating_bot_conda/lib/python3.9/site-packages/tensorflow/python/data/ops/iterator_ops.py?line=766'>767</a>\u001b[0m   \u001b[39mexcept\u001b[39;00m errors\u001b[39m.\u001b[39mOutOfRangeError:\n\u001b[1;32m    <a href='file:///Users/dudulasry/.pyenv/versions/miniforge3-4.10.3-10/envs/dating_bot_conda/lib/python3.9/site-packages/tensorflow/python/data/ops/iterator_ops.py?line=767'>768</a>\u001b[0m     \u001b[39mraise\u001b[39;00m \u001b[39mStopIteration\u001b[39;00m\n",
      "File \u001b[0;32m~/.pyenv/versions/miniforge3-4.10.3-10/envs/dating_bot_conda/lib/python3.9/site-packages/tensorflow/python/data/ops/iterator_ops.py:749\u001b[0m, in \u001b[0;36mOwnedIterator._next_internal\u001b[0;34m(self)\u001b[0m\n\u001b[1;32m    <a href='file:///Users/dudulasry/.pyenv/versions/miniforge3-4.10.3-10/envs/dating_bot_conda/lib/python3.9/site-packages/tensorflow/python/data/ops/iterator_ops.py?line=745'>746</a>\u001b[0m \u001b[39m# TODO(b/77291417): This runs in sync mode as iterators use an error status\u001b[39;00m\n\u001b[1;32m    <a href='file:///Users/dudulasry/.pyenv/versions/miniforge3-4.10.3-10/envs/dating_bot_conda/lib/python3.9/site-packages/tensorflow/python/data/ops/iterator_ops.py?line=746'>747</a>\u001b[0m \u001b[39m# to communicate that there is no more data to iterate over.\u001b[39;00m\n\u001b[1;32m    <a href='file:///Users/dudulasry/.pyenv/versions/miniforge3-4.10.3-10/envs/dating_bot_conda/lib/python3.9/site-packages/tensorflow/python/data/ops/iterator_ops.py?line=747'>748</a>\u001b[0m \u001b[39mwith\u001b[39;00m context\u001b[39m.\u001b[39mexecution_mode(context\u001b[39m.\u001b[39mSYNC):\n\u001b[0;32m--> <a href='file:///Users/dudulasry/.pyenv/versions/miniforge3-4.10.3-10/envs/dating_bot_conda/lib/python3.9/site-packages/tensorflow/python/data/ops/iterator_ops.py?line=748'>749</a>\u001b[0m   ret \u001b[39m=\u001b[39m gen_dataset_ops\u001b[39m.\u001b[39;49miterator_get_next(\n\u001b[1;32m    <a href='file:///Users/dudulasry/.pyenv/versions/miniforge3-4.10.3-10/envs/dating_bot_conda/lib/python3.9/site-packages/tensorflow/python/data/ops/iterator_ops.py?line=749'>750</a>\u001b[0m       \u001b[39mself\u001b[39;49m\u001b[39m.\u001b[39;49m_iterator_resource,\n\u001b[1;32m    <a href='file:///Users/dudulasry/.pyenv/versions/miniforge3-4.10.3-10/envs/dating_bot_conda/lib/python3.9/site-packages/tensorflow/python/data/ops/iterator_ops.py?line=750'>751</a>\u001b[0m       output_types\u001b[39m=\u001b[39;49m\u001b[39mself\u001b[39;49m\u001b[39m.\u001b[39;49m_flat_output_types,\n\u001b[1;32m    <a href='file:///Users/dudulasry/.pyenv/versions/miniforge3-4.10.3-10/envs/dating_bot_conda/lib/python3.9/site-packages/tensorflow/python/data/ops/iterator_ops.py?line=751'>752</a>\u001b[0m       output_shapes\u001b[39m=\u001b[39;49m\u001b[39mself\u001b[39;49m\u001b[39m.\u001b[39;49m_flat_output_shapes)\n\u001b[1;32m    <a href='file:///Users/dudulasry/.pyenv/versions/miniforge3-4.10.3-10/envs/dating_bot_conda/lib/python3.9/site-packages/tensorflow/python/data/ops/iterator_ops.py?line=753'>754</a>\u001b[0m   \u001b[39mtry\u001b[39;00m:\n\u001b[1;32m    <a href='file:///Users/dudulasry/.pyenv/versions/miniforge3-4.10.3-10/envs/dating_bot_conda/lib/python3.9/site-packages/tensorflow/python/data/ops/iterator_ops.py?line=754'>755</a>\u001b[0m     \u001b[39m# Fast path for the case `self._structure` is not a nested structure.\u001b[39;00m\n\u001b[1;32m    <a href='file:///Users/dudulasry/.pyenv/versions/miniforge3-4.10.3-10/envs/dating_bot_conda/lib/python3.9/site-packages/tensorflow/python/data/ops/iterator_ops.py?line=755'>756</a>\u001b[0m     \u001b[39mreturn\u001b[39;00m \u001b[39mself\u001b[39m\u001b[39m.\u001b[39m_element_spec\u001b[39m.\u001b[39m_from_compatible_tensor_list(ret)  \u001b[39m# pylint: disable=protected-access\u001b[39;00m\n",
      "File \u001b[0;32m~/.pyenv/versions/miniforge3-4.10.3-10/envs/dating_bot_conda/lib/python3.9/site-packages/tensorflow/python/ops/gen_dataset_ops.py:3017\u001b[0m, in \u001b[0;36miterator_get_next\u001b[0;34m(iterator, output_types, output_shapes, name)\u001b[0m\n\u001b[1;32m   <a href='file:///Users/dudulasry/.pyenv/versions/miniforge3-4.10.3-10/envs/dating_bot_conda/lib/python3.9/site-packages/tensorflow/python/ops/gen_dataset_ops.py?line=3014'>3015</a>\u001b[0m   \u001b[39mreturn\u001b[39;00m _result\n\u001b[1;32m   <a href='file:///Users/dudulasry/.pyenv/versions/miniforge3-4.10.3-10/envs/dating_bot_conda/lib/python3.9/site-packages/tensorflow/python/ops/gen_dataset_ops.py?line=3015'>3016</a>\u001b[0m \u001b[39mexcept\u001b[39;00m _core\u001b[39m.\u001b[39m_NotOkStatusException \u001b[39mas\u001b[39;00m e:\n\u001b[0;32m-> <a href='file:///Users/dudulasry/.pyenv/versions/miniforge3-4.10.3-10/envs/dating_bot_conda/lib/python3.9/site-packages/tensorflow/python/ops/gen_dataset_ops.py?line=3016'>3017</a>\u001b[0m   _ops\u001b[39m.\u001b[39;49mraise_from_not_ok_status(e, name)\n\u001b[1;32m   <a href='file:///Users/dudulasry/.pyenv/versions/miniforge3-4.10.3-10/envs/dating_bot_conda/lib/python3.9/site-packages/tensorflow/python/ops/gen_dataset_ops.py?line=3017'>3018</a>\u001b[0m \u001b[39mexcept\u001b[39;00m _core\u001b[39m.\u001b[39m_FallbackException:\n\u001b[1;32m   <a href='file:///Users/dudulasry/.pyenv/versions/miniforge3-4.10.3-10/envs/dating_bot_conda/lib/python3.9/site-packages/tensorflow/python/ops/gen_dataset_ops.py?line=3018'>3019</a>\u001b[0m   \u001b[39mpass\u001b[39;00m\n",
      "File \u001b[0;32m~/.pyenv/versions/miniforge3-4.10.3-10/envs/dating_bot_conda/lib/python3.9/site-packages/tensorflow/python/framework/ops.py:7164\u001b[0m, in \u001b[0;36mraise_from_not_ok_status\u001b[0;34m(e, name)\u001b[0m\n\u001b[1;32m   <a href='file:///Users/dudulasry/.pyenv/versions/miniforge3-4.10.3-10/envs/dating_bot_conda/lib/python3.9/site-packages/tensorflow/python/framework/ops.py?line=7161'>7162</a>\u001b[0m \u001b[39mdef\u001b[39;00m \u001b[39mraise_from_not_ok_status\u001b[39m(e, name):\n\u001b[1;32m   <a href='file:///Users/dudulasry/.pyenv/versions/miniforge3-4.10.3-10/envs/dating_bot_conda/lib/python3.9/site-packages/tensorflow/python/framework/ops.py?line=7162'>7163</a>\u001b[0m   e\u001b[39m.\u001b[39mmessage \u001b[39m+\u001b[39m\u001b[39m=\u001b[39m (\u001b[39m\"\u001b[39m\u001b[39m name: \u001b[39m\u001b[39m\"\u001b[39m \u001b[39m+\u001b[39m name \u001b[39mif\u001b[39;00m name \u001b[39mis\u001b[39;00m \u001b[39mnot\u001b[39;00m \u001b[39mNone\u001b[39;00m \u001b[39melse\u001b[39;00m \u001b[39m\"\u001b[39m\u001b[39m\"\u001b[39m)\n\u001b[0;32m-> <a href='file:///Users/dudulasry/.pyenv/versions/miniforge3-4.10.3-10/envs/dating_bot_conda/lib/python3.9/site-packages/tensorflow/python/framework/ops.py?line=7163'>7164</a>\u001b[0m   \u001b[39mraise\u001b[39;00m core\u001b[39m.\u001b[39m_status_to_exception(e) \u001b[39mfrom\u001b[39;00m \u001b[39mNone\u001b[39m\n",
      "\u001b[0;31mInvalidArgumentError\u001b[0m: jpeg::Uncompress failed. Invalid JPEG data or crop window.\n\t [[{{node decode_image/DecodeImage}}]] [Op:IteratorGetNext]"
     ]
    }
   ],
   "source": [
    "next(iterator)"
   ]
  },
  {
   "cell_type": "code",
   "execution_count": null,
   "metadata": {},
   "outputs": [],
   "source": []
  }
 ],
 "metadata": {
  "interpreter": {
   "hash": "7b5bab937f39cf9a762de1f4f007c957813626e1e17defbc1f730c5cc600c8fc"
  },
  "kernelspec": {
   "display_name": "Python 3.9.13 ('dating_bot_conda')",
   "language": "python",
   "name": "python3"
  },
  "language_info": {
   "codemirror_mode": {
    "name": "ipython",
    "version": 3
   },
   "file_extension": ".py",
   "mimetype": "text/x-python",
   "name": "python",
   "nbconvert_exporter": "python",
   "pygments_lexer": "ipython3",
   "version": "3.9.13"
  },
  "orig_nbformat": 4
 },
 "nbformat": 4,
 "nbformat_minor": 2
}
