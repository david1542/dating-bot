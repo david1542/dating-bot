{
 "cells": [
  {
   "cell_type": "code",
   "execution_count": 1,
   "metadata": {},
   "outputs": [],
   "source": [
    "%load_ext autoreload\n",
    "%autoreload 2\n",
    "\n",
    "import sys\n",
    "sys.path.append('..')"
   ]
  },
  {
   "cell_type": "code",
   "execution_count": 10,
   "metadata": {},
   "outputs": [],
   "source": [
    "import os\n",
    "from bs4 import BeautifulSoup\n",
    "from src.utils.data import create_dataset, split_metadata\n",
    "from src.utils.data import xml_to_dataframe\n",
    "from tensorflow import keras\n",
    "\n",
    "dataset_path = '../data/processed/dataset'\n",
    "annotations_path = os.path.join(dataset_path, 'annotations.xml')\n",
    "images_path = os.path.join(dataset_path, 'images')\n",
    "\n",
    "with open(annotations_path, 'rb') as f:\n",
    "    annotations = BeautifulSoup(f.read(), 'xml')\n",
    "\n",
    "df = xml_to_dataframe(annotations)\n",
    "df['file_path'] = images_path + '/' + df['file_name']\n",
    "\n",
    "\n",
    "# Split the data to train and test\n",
    "train_images, valid_images, test_images = split_metadata(df, train_frac=0.7, valid_frac=0.15)\n",
    "\n",
    "# Create datasets\n",
    "ds_train = create_dataset(train_images)\n",
    "ds_valid = create_dataset(valid_images)\n",
    "ds_test = create_dataset(test_images)\n",
    "\n",
    "# Create model\n",
    "backbone = keras.applications.Xception(\n",
    "    weights='imagenet',  # Load weights pre-trained on ImageNet.\n",
    "    input_shape=(256, 256, 3),\n",
    "    include_top=False)\n",
    "\n",
    "backbone.trainable = False\n",
    "inputs = keras.Input(shape=(256, 256, 3))\n",
    "\n",
    "# We make sure that the base_model is running in inference mode here,\n",
    "# by passing `training=False`. This is important for fine-tuning, as you will\n",
    "# learn in a few paragraphs.\n",
    "x = backbone(inputs, training=False)\n",
    "\n",
    "# Convert features of shape `base_model.output_shape[1:]` to vectors\n",
    "x = keras.layers.GlobalAveragePooling2D()(x)\n",
    "\n",
    "# A Dense classifier with a single unit (binary classification)\n",
    "x = keras.layers.Dense(512, activation='relu')(x)\n",
    "outputs = keras.layers.Dense(1)(x)\n",
    "model = keras.Model(inputs, outputs)"
   ]
  },
  {
   "cell_type": "code",
   "execution_count": 11,
   "metadata": {},
   "outputs": [
    {
     "name": "stdout",
     "output_type": "stream",
     "text": [
      "Model: \"model_4\"\n",
      "_________________________________________________________________\n",
      " Layer (type)                Output Shape              Param #   \n",
      "=================================================================\n",
      " input_10 (InputLayer)       [(None, 256, 256, 3)]     0         \n",
      "                                                                 \n",
      " xception (Functional)       (None, 8, 8, 2048)        20861480  \n",
      "                                                                 \n",
      " global_average_pooling2d_4   (None, 2048)             0         \n",
      " (GlobalAveragePooling2D)                                        \n",
      "                                                                 \n",
      " dense_6 (Dense)             (None, 512)               1049088   \n",
      "                                                                 \n",
      " dense_7 (Dense)             (None, 1)                 513       \n",
      "                                                                 \n",
      "=================================================================\n",
      "Total params: 21,911,081\n",
      "Trainable params: 1,049,601\n",
      "Non-trainable params: 20,861,480\n",
      "_________________________________________________________________\n"
     ]
    }
   ],
   "source": [
    "model.summary()"
   ]
  },
  {
   "cell_type": "code",
   "execution_count": null,
   "metadata": {},
   "outputs": [],
   "source": []
  }
 ],
 "metadata": {
  "interpreter": {
   "hash": "7b5bab937f39cf9a762de1f4f007c957813626e1e17defbc1f730c5cc600c8fc"
  },
  "kernelspec": {
   "display_name": "Python 3.9.13 ('dating_bot_conda')",
   "language": "python",
   "name": "python3"
  },
  "language_info": {
   "codemirror_mode": {
    "name": "ipython",
    "version": 3
   },
   "file_extension": ".py",
   "mimetype": "text/x-python",
   "name": "python",
   "nbconvert_exporter": "python",
   "pygments_lexer": "ipython3",
   "version": "3.9.13"
  },
  "orig_nbformat": 4
 },
 "nbformat": 4,
 "nbformat_minor": 2
}
